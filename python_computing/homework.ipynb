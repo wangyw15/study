{
 "cells": [
  {
   "attachments": {},
   "cell_type": "markdown",
   "metadata": {},
   "source": [
    "# 第一章"
   ]
  },
  {
   "attachments": {},
   "cell_type": "markdown",
   "metadata": {},
   "source": [
    "1. 选择Python版本时应首先充分了解自己的需求和可用的扩展库情况\n",
    "2. 当多个对象被赋予相同值时，该值在内存中只有一个副本\n",
    "3. `/`为普通除法，`//`是整除\n",
    "4. 可以使用`import`语句来导入模块中的对象，也可以为导入的模块或对象设置别名\n",
    "5. `PyPI`\n",
    "6. Python的`__name__`特殊变量存储当前运行的Python脚本或模块的名称，直接执行一段脚本的时候，这段脚本的`__name__`变量等于`main`，当这段脚本被导入其他程序的时候，__name__变量等于脚本本身的名字2；可以在程序中加入`if __name__ == 'main':`的语句来区分不同的执行方式\n",
    "7. 可以\n",
    "8. 是\n",
    "9. 输入的内容 `str`"
   ]
  },
  {
   "cell_type": "code",
   "execution_count": 25,
   "metadata": {},
   "outputs": [
    {
     "name": "stdout",
     "output_type": "stream",
     "text": [
      "12\n"
     ]
    }
   ],
   "source": [
    "# 10\n",
    "# input 1234\n",
    "print(int(input('num: ')) // 100)"
   ]
  },
  {
   "attachments": {},
   "cell_type": "markdown",
   "metadata": {},
   "source": [
    "# 第二章"
   ]
  },
  {
   "attachments": {},
   "cell_type": "markdown",
   "metadata": {},
   "source": [
    "1. 在Python中列表用数组实现，因此从尾部操作更为高效\n",
    "2. 列表 迭代器"
   ]
  },
  {
   "cell_type": "code",
   "execution_count": 26,
   "metadata": {},
   "outputs": [
    {
     "name": "stdout",
     "output_type": "stream",
     "text": [
      "[11, 8, 6, 11, 11, 4, 11, 11, 14, 13, 11, 10, 10, 9, 10, 8, 9, 9, 9, 15, 12, 7, 5, 9, 13, 10, 9, 9, 10, 11, 12, 10, 13, 11, 14, 8, 14, 10, 17, 11, 12, 11, 11, 14, 15, 9, 10, 11, 14, 16, 8, 14, 7, 9, 5, 11, 9, 10, 4, 7, 10, 20, 11, 12, 9, 11, 11, 8, 12, 7, 5, 4, 8, 5, 10, 14, 8, 8, 13, 6, 10, 6, 8, 4, 7, 8, 15, 9, 10, 9, 15, 9, 13, 8, 5, 7, 7, 9, 8, 9, 10]\n"
     ]
    }
   ],
   "source": [
    "# 3\n",
    "import random\n",
    "\n",
    "nums = [random.randint(0, 100) for _ in range(1000)]\n",
    "\n",
    "# initialize count array\n",
    "count = []\n",
    "for _ in range(101):\n",
    "    count.append(0)\n",
    "\n",
    "# count\n",
    "for num in nums:\n",
    "    count[num] += 1\n",
    "\n",
    "print(count)"
   ]
  },
  {
   "cell_type": "code",
   "execution_count": 27,
   "metadata": {},
   "outputs": [
    {
     "data": {
      "text/plain": [
       "False"
      ]
     },
     "execution_count": 27,
     "metadata": {},
     "output_type": "execute_result"
    }
   ],
   "source": [
    "# 4\n",
    "[3] in [1, 2, 3, 4]"
   ]
  },
  {
   "cell_type": "code",
   "execution_count": 28,
   "metadata": {},
   "outputs": [
    {
     "name": "stdout",
     "output_type": "stream",
     "text": [
      "[3, 4, 5, 6]\n"
     ]
    }
   ],
   "source": [
    "# 5\n",
    "# input: [1,2,3,4,5,6] 2 5\n",
    "nums = eval(input('list: '))\n",
    "lower = int(input('lower: '))\n",
    "upper = int(input('upper: '))\n",
    "print(nums[lower:upper + 1])"
   ]
  },
  {
   "attachments": {},
   "cell_type": "markdown",
   "metadata": {},
   "source": [
    "6. `NoneType`\n",
    "7. `remove()`"
   ]
  },
  {
   "cell_type": "code",
   "execution_count": 29,
   "metadata": {},
   "outputs": [
    {
     "data": {
      "text/plain": [
       "[6, 7, 9, 11]"
      ]
     },
     "execution_count": 29,
     "metadata": {},
     "output_type": "execute_result"
    }
   ],
   "source": [
    "# 8\n",
    "aList = [3, 4, 5, 6, 7, 9, 11, 13, 15, 17]\n",
    "aList[3:7]"
   ]
  },
  {
   "cell_type": "code",
   "execution_count": 24,
   "metadata": {},
   "outputs": [
    {
     "name": "stdout",
     "output_type": "stream",
     "text": [
      "0\n",
      "2\n",
      "您输入的键不存在！\n"
     ]
    }
   ],
   "source": [
    "# 9\n",
    "# input: a b abc\n",
    "data = {'a': 0, 'b': 2}\n",
    "while True:\n",
    "    k = input('key: ')\n",
    "    if k == '':\n",
    "        break\n",
    "    if k in data.keys():\n",
    "        print(data[k])\n",
    "    else:\n",
    "        print('您输入的键不存在！')\n",
    "    "
   ]
  },
  {
   "cell_type": "code",
   "execution_count": 41,
   "metadata": {},
   "outputs": [
    {
     "name": "stdout",
     "output_type": "stream",
     "text": [
      "[18, 19, 21, 63, 65, 67, 85, 94, 95, 95]\n",
      "[97, 59, 59, 50, 49, 28, 25, 21, 11, 11]\n"
     ]
    }
   ],
   "source": [
    "# 10\n",
    "import random\n",
    "\n",
    "nums = [random.randint(0, 100) for _ in range(20)]\n",
    "front = nums[:10]\n",
    "back = nums[10:]\n",
    "front.sort()\n",
    "back.sort(reverse=True)\n",
    "print(front)\n",
    "print(back)"
   ]
  },
  {
   "attachments": {},
   "cell_type": "markdown",
   "metadata": {},
   "source": [
    "11. 花括号 键 值 键\n",
    "12. `items()` `keys()` `values()`"
   ]
  },
  {
   "cell_type": "code",
   "execution_count": 42,
   "metadata": {},
   "outputs": [
    {
     "data": {
      "text/plain": [
       "{'name': 'Dong', 'age': 38, 'sex': 'Male'}"
      ]
     },
     "execution_count": 42,
     "metadata": {},
     "output_type": "execute_result"
    }
   ],
   "source": [
    "# 13\n",
    "a = ['name', 'age', 'sex']\n",
    "b = ['Dong', 38, 'Male']\n",
    "dict(zip(a, b))"
   ]
  },
  {
   "cell_type": "code",
   "execution_count": 44,
   "metadata": {},
   "outputs": [
    {
     "data": {
      "text/plain": [
       "[1, 4, 7]"
      ]
     },
     "execution_count": 44,
     "metadata": {},
     "output_type": "execute_result"
    }
   ],
   "source": [
    "# 14\n",
    "a = [1, 2, 3, 4, 5, 6, 7, 8, 9]\n",
    "b = a[0:len(a):3]\n",
    "b"
   ]
  },
  {
   "cell_type": "code",
   "execution_count": 45,
   "metadata": {},
   "outputs": [
    {
     "data": {
      "text/plain": [
       "[5, 5, 5, 5, 5, 5, 5, 5, 5, 5]"
      ]
     },
     "execution_count": 45,
     "metadata": {},
     "output_type": "execute_result"
    }
   ],
   "source": [
    "# 15\n",
    "[5 for _ in range(10)]"
   ]
  },
  {
   "attachments": {},
   "cell_type": "markdown",
   "metadata": {},
   "source": [
    "16. 可以"
   ]
  },
  {
   "attachments": {},
   "cell_type": "markdown",
   "metadata": {},
   "source": [
    "# 第三章"
   ]
  },
  {
   "attachments": {},
   "cell_type": "markdown",
   "metadata": {},
   "source": [
    "1. 逻辑运算符`or`的短路求值特性是指，当`or`的左边的表达式为真时，就不再计算右边的表达式，直接为真。如果有一个表达式是`x or y`，如果`x`为`True`，那么最终结果返回 `True` ，不用管`y`是否为真。"
   ]
  },
  {
   "cell_type": "code",
   "execution_count": 50,
   "metadata": {},
   "outputs": [
    {
     "name": "stdout",
     "output_type": "stream",
     "text": [
      "2000是闰年\n"
     ]
    }
   ],
   "source": [
    "# 2\n",
    "year = int(input('year: '))\n",
    "if year % 400 == 0 or year % 4 == 0 and year % 100 != 0:\n",
    "    print(f'{year}是闰年')\n",
    "else:\n",
    "    print(f'{year}不是闰年')"
   ]
  },
  {
   "attachments": {},
   "cell_type": "markdown",
   "metadata": {},
   "source": [
    "3. `for` `while`"
   ]
  },
  {
   "cell_type": "code",
   "execution_count": 54,
   "metadata": {},
   "outputs": [
    {
     "name": "stdout",
     "output_type": "stream",
     "text": [
      "[40, 20, 62, 24, 78, 16, 48, 92, 8, 78, 66, 90, 34, 60, 16, 18, 66, 44, 52, 72, 28, 88, 78, 26, 58]\n"
     ]
    }
   ],
   "source": [
    "# 4\n",
    "import random\n",
    "\n",
    "nums = [random.randint(0, 100) for _ in range(50)]\n",
    "for i in range(len(nums) - 1, -1, -1):\n",
    "    if nums[i] % 2 != 0:\n",
    "        del nums[i]\n",
    "print(nums)"
   ]
  },
  {
   "cell_type": "code",
   "execution_count": 64,
   "metadata": {},
   "outputs": [
    {
     "name": "stdout",
     "output_type": "stream",
     "text": [
      "[93, 75, 81, 94, 79, 34, 63, 81, 48, 19, 33, 15, 29, 65, 21, 89, 7, 85, 2, 33]\n"
     ]
    }
   ],
   "source": [
    "# 5\n",
    "import random\n",
    "\n",
    "nums = [random.randint(0, 100) for _ in range(20)]\n",
    "sorted = nums[0:len(nums):2]\n",
    "sorted.sort(reverse=True)\n",
    "for i in range(len(sorted)):\n",
    "    nums[i * 2] = sorted[i]\n",
    "print(nums)"
   ]
  },
  {
   "cell_type": "code",
   "execution_count": 77,
   "metadata": {},
   "outputs": [
    {
     "name": "stdout",
     "output_type": "stream",
     "text": [
      "60=2*2*3*5\n"
     ]
    }
   ],
   "source": [
    "# 6\n",
    "def is_prime(n):\n",
    "    if n <= 1:\n",
    "        return False\n",
    "    if n == 2 or n == 3:\n",
    "        return True\n",
    "    if n % 2 == 0:\n",
    "        return False\n",
    "    for i in range(3, int(n ** 0.5) + 1, 2):\n",
    "        if n % i == 0:\n",
    "            return False\n",
    "    return True\n",
    "\n",
    "def factorize(num):\n",
    "    orig_num = num\n",
    "    factors = []\n",
    "    if is_prime(num) or num <= 1:\n",
    "        factors.append(num)\n",
    "    else:\n",
    "        i = 2\n",
    "        while i <= num:\n",
    "            if num % i == 0:\n",
    "                factors.append(i)\n",
    "                num = num // i\n",
    "            else:\n",
    "                i += 1 if i % 2 == 0 else 2\n",
    "    \n",
    "    result = '*'.join(str(x) for x in factors)\n",
    "    print(f'{orig_num}={result}' if len(factors) > 1 else f'{orig_num}不能分解')\n",
    "\n",
    "factorize(int(input('number: ')))"
   ]
  },
  {
   "cell_type": "code",
   "execution_count": 78,
   "metadata": {},
   "outputs": [
    {
     "name": "stdout",
     "output_type": "stream",
     "text": [
      "2500\n",
      "2500\n"
     ]
    }
   ],
   "source": [
    "# 7\n",
    "sum = 0\n",
    "for i in range(101):\n",
    "    if i % 2 == 1:\n",
    "        sum += i\n",
    "print(sum)\n",
    "\n",
    "sum = 0\n",
    "for i in range(1, 101, 2):\n",
    "    sum += i\n",
    "print(sum)"
   ]
  },
  {
   "cell_type": "code",
   "execution_count": 84,
   "metadata": {},
   "outputs": [
    {
     "name": "stdout",
     "output_type": "stream",
     "text": [
      "1423\n",
      "2143\n",
      "2341\n",
      "4231\n"
     ]
    }
   ],
   "source": [
    "# 8\n",
    "import itertools\n",
    "\n",
    "def is_prime(n):\n",
    "    if n <= 1:\n",
    "        return False\n",
    "    if n == 2 or n == 3:\n",
    "        return True\n",
    "    if n % 2 == 0:\n",
    "        return False\n",
    "    for i in range(3, int(n ** 0.5) + 1, 2):\n",
    "        if n % i == 0:\n",
    "            return False\n",
    "    return True\n",
    "\n",
    "for i in itertools.permutations(['1', '2', '3', '4']):\n",
    "    num = int(''.join(i))\n",
    "    if is_prime(num):\n",
    "        print(num)"
   ]
  },
  {
   "cell_type": "code",
   "execution_count": 86,
   "metadata": {},
   "outputs": [
    {
     "name": "stdout",
     "output_type": "stream",
     "text": [
      "0\n",
      "0\n",
      "3\n",
      "10\n",
      "19\n",
      "3.0\n",
      "5.5\n",
      "0\n",
      "0\n"
     ]
    }
   ],
   "source": [
    "# 9\n",
    "def func(x):\n",
    "    if x < 0:\n",
    "        return 0\n",
    "    if 0 <= x and x < 5:\n",
    "        return x\n",
    "    if 5 <= x and x < 10:\n",
    "        return 3 * x - 5\n",
    "    if 10 <= x and x < 20:\n",
    "        return 0.5 * x - 2\n",
    "    else:\n",
    "        return 0\n",
    "    \n",
    "print(func(-1))\n",
    "print(func(0))\n",
    "print(func(3))\n",
    "print(func(5))\n",
    "print(func(8))\n",
    "print(func(10))\n",
    "print(func(15))\n",
    "print(func(20))\n",
    "print(func(40))"
   ]
  },
  {
   "attachments": {},
   "cell_type": "markdown",
   "metadata": {},
   "source": [
    "# 第四章"
   ]
  },
  {
   "cell_type": "code",
   "execution_count": 9,
   "metadata": {},
   "outputs": [
    {
     "name": "stdout",
     "output_type": "stream",
     "text": [
      "original: i am LiMing. i like programming\n",
      "replaced: I am LiMing. I like programming\n"
     ]
    }
   ],
   "source": [
    "# 1\n",
    "import re\n",
    "\n",
    "s = input('str: ')\n",
    "print('original:', s)\n",
    "print('replaced:', re.sub(r'\\bi\\b', 'I', s))"
   ]
  },
  {
   "cell_type": "code",
   "execution_count": 10,
   "metadata": {},
   "outputs": [
    {
     "name": "stdout",
     "output_type": "stream",
     "text": [
      "original: I am LIMIng. I lIke programming\n",
      "replaced: I am LiMing. I like programming\n"
     ]
    }
   ],
   "source": [
    "# 2\n",
    "import re\n",
    "\n",
    "s = input('str: ')\n",
    "print('original:', s)\n",
    "print('replaced:', re.sub(r'\\BI\\B', 'i', s))"
   ]
  },
  {
   "cell_type": "code",
   "execution_count": 2,
   "metadata": {},
   "outputs": [
    {
     "name": "stdout",
     "output_type": "stream",
     "text": [
      "original: This is is a desk desk,\n",
      "replaced: This is a desk,\n"
     ]
    }
   ],
   "source": [
    "# 3\n",
    "import re\n",
    "\n",
    "s = input('str: ')\n",
    "print('original:', s)\n",
    "print('replaced:', re.sub(r'\\b(\\w+)\\s+\\1+\\b', '\\g<1>', s))"
   ]
  },
  {
   "attachments": {},
   "cell_type": "markdown",
   "metadata": {},
   "source": [
    "4. Python的字符串驻留机制是一种在内存中仅保存一份相同且不可变字符串的方法，以提高字符串比较的速度和减少内存占用。Python会在编译时对符合一定条件的字符串进行驻留，例如长度为0或1，或者只包含大小写字母、数字、下划线的字符串。对于短字符串，Python支持驻留机制，长字符串不具有这个特性。"
   ]
  },
  {
   "cell_type": "code",
   "execution_count": 27,
   "metadata": {},
   "outputs": [
    {
     "name": "stdout",
     "output_type": "stream",
     "text": [
      "original: The quick brown fox jumps over the lazy dog.\n",
      "   found: the fox dog "
     ]
    }
   ],
   "source": [
    "# 5\n",
    "import re\n",
    "\n",
    "s = input('str: ')\n",
    "# find\n",
    "pattern = re.compile(r'\\b\\w{3}\\b')\n",
    "result = pattern.findall(s)\n",
    "\n",
    "# unique\n",
    "words = []\n",
    "for i in result:\n",
    "    if not i.lower() in words:\n",
    "        words.append(i.lower())\n",
    "\n",
    "# print\n",
    "print('original:', s)\n",
    "print('   found: ', end='')\n",
    "for i in words:\n",
    "    print(i, end=' ')"
   ]
  },
  {
   "attachments": {},
   "cell_type": "markdown",
   "metadata": {},
   "source": [
    "# 第五章"
   ]
  },
  {
   "cell_type": "code",
   "execution_count": 29,
   "metadata": {},
   "outputs": [
    {
     "name": "stdout",
     "output_type": "stream",
     "text": [
      "[1, 2, 3, 4, '5']\n",
      "['a', 'b', 'aaa']\n",
      "['a']\n",
      "['a', 'b']\n",
      "[1, 2, 3, 4, '5']\n",
      "['a', 'b', 'aaa']\n",
      "['a']\n",
      "['b']\n"
     ]
    }
   ],
   "source": [
    "# 1\n",
    "def old_demo(newitem, old_list=[]):\n",
    "    old_list.append(newitem)\n",
    "    return old_list\n",
    "\n",
    "def new_demo(newitem, old_list=None):\n",
    "    if old_list is None:\n",
    "        old_list = []\n",
    "    old_list.append(newitem)\n",
    "    return old_list\n",
    "\n",
    "print(old_demo('5', [1, 2, 3, 4]))\n",
    "print(old_demo('aaa', ['a', 'b']))\n",
    "print(old_demo('a'))\n",
    "print(old_demo('b'))\n",
    "\n",
    "print(new_demo('5', [1, 2, 3, 4]))\n",
    "print(new_demo('aaa', ['a', 'b']))\n",
    "print(new_demo('a'))\n",
    "print(new_demo('b'))"
   ]
  },
  {
   "attachments": {},
   "cell_type": "markdown",
   "metadata": {},
   "source": [
    "1. 原因为：多次调用函数并且不给带默认值的参数传递值时，默认值参数只在第一次调用时进行解释，因此在`old_demo`中，`old_list=[]`只会在`old_demo('a')`的时候解释一次，运行完之后`old_list`的默认值变为`['a']`，因此`old_demo('b')`的`old_list=['a']`，所以会返回`['a', 'b']`"
   ]
  },
  {
   "cell_type": "code",
   "execution_count": 30,
   "metadata": {},
   "outputs": [
    {
     "name": "stdout",
     "output_type": "stream",
     "text": [
      "True\n"
     ]
    }
   ],
   "source": [
    "# 2\n",
    "def is_prime(n):\n",
    "    if n <= 1:\n",
    "        return False\n",
    "    if n == 2 or n == 3:\n",
    "        return True\n",
    "    if n % 2 == 0:\n",
    "        return False\n",
    "    for i in range(3, int(n ** 0.5) + 1, 2):\n",
    "        if n % i == 0:\n",
    "            return False\n",
    "    return True\n",
    "\n",
    "if __name__ == '__main__':\n",
    "    print(is_prime(73))"
   ]
  },
  {
   "cell_type": "code",
   "execution_count": 31,
   "metadata": {},
   "outputs": [
    {
     "data": {
      "text/plain": [
       "(1, 13, 1, 4)"
      ]
     },
     "execution_count": 31,
     "metadata": {},
     "output_type": "execute_result"
    }
   ],
   "source": [
    "# 3\n",
    "def count(s: str):\n",
    "    upper = 0\n",
    "    lower = 0\n",
    "    digit = 0\n",
    "    for c in s:\n",
    "        if 'A' <= c and c <= 'Z':\n",
    "            upper += 1\n",
    "        elif 'a' <= c and c <= 'z':\n",
    "            lower += 1\n",
    "        elif '0' <= c and c <= '9':\n",
    "            digit += 1\n",
    "    return (upper, lower, digit, len(s) - upper - lower - digit)\n",
    "\n",
    "count('There are 4 apples.')"
   ]
  },
  {
   "attachments": {},
   "cell_type": "markdown",
   "metadata": {},
   "source": [
    "4. `global`\n",
    "5. `None`\n",
    "6. 错"
   ]
  },
  {
   "cell_type": "code",
   "execution_count": 38,
   "metadata": {},
   "outputs": [
    {
     "name": "stdout",
     "output_type": "stream",
     "text": [
      "main 1\n",
      "test 2\n",
      "main 1\n"
     ]
    }
   ],
   "source": [
    "# 7-1\n",
    "a = 1\n",
    "def test():\n",
    "    a = 2\n",
    "    print('test', a)\n",
    "\n",
    "print('main', a)\n",
    "test()\n",
    "print('main', a)"
   ]
  },
  {
   "attachments": {},
   "cell_type": "markdown",
   "metadata": {},
   "source": [
    "7. 会\n",
    "8. 错"
   ]
  },
  {
   "cell_type": "code",
   "execution_count": 43,
   "metadata": {},
   "outputs": [
    {
     "data": {
      "text/plain": [
       "(5, 15)"
      ]
     },
     "execution_count": 43,
     "metadata": {},
     "output_type": "execute_result"
    }
   ],
   "source": [
    "# 9\n",
    "def max_sum(*nums):\n",
    "    return (max(nums), sum(nums))\n",
    "\n",
    "max_sum(1, 2, 3, 5, 4)"
   ]
  },
  {
   "cell_type": "code",
   "execution_count": 49,
   "metadata": {},
   "outputs": [
    {
     "name": "stdout",
     "output_type": "stream",
     "text": [
      "0\n",
      "15\n",
      "15\n"
     ]
    }
   ],
   "source": [
    "# 10\n",
    "def my_sum(*nums):\n",
    "    ret = 0\n",
    "    if len(nums) != 0:\n",
    "        if type(nums[0]) == list or type(nums[0]) == tuple:\n",
    "            for i in nums[0]:\n",
    "                ret += i\n",
    "        else:\n",
    "            for i in nums:\n",
    "                ret += i\n",
    "    return ret\n",
    "\n",
    "print(my_sum([]))\n",
    "print(my_sum(1, 2, 3, 4, 5))\n",
    "print(my_sum([1, 2, 3, 4, 5]))"
   ]
  },
  {
   "attachments": {},
   "cell_type": "markdown",
   "metadata": {},
   "source": [
    "11. `yield`"
   ]
  },
  {
   "cell_type": "code",
   "execution_count": 63,
   "metadata": {},
   "outputs": [
    {
     "name": "stdout",
     "output_type": "stream",
     "text": [
      "[1, 2, 3, 4, 5]\n",
      "[5, 4, 3, 2, 1]\n"
     ]
    }
   ],
   "source": [
    "# 12\n",
    "def my_sorted(nums, reverse=False):\n",
    "    n = len(nums)\n",
    "    for i in range(n):\n",
    "        for j in range(0, n-i-1):\n",
    "            if nums[j] > nums[j+1] and not reverse or nums[j] < nums[j+1] and reverse:\n",
    "                nums[j], nums[j+1] = nums[j+1], nums[j]\n",
    "\n",
    "list = [1, 3, 5, 4, 2]\n",
    "my_sorted(list)\n",
    "print(list)\n",
    "my_sorted(list, True)\n",
    "print(list)"
   ]
  },
  {
   "attachments": {},
   "cell_type": "markdown",
   "metadata": {},
   "source": [
    "# 第六章"
   ]
  },
  {
   "cell_type": "code",
   "execution_count": 65,
   "metadata": {},
   "outputs": [
    {
     "name": "stdout",
     "output_type": "stream",
     "text": [
      "Name: Li Ming\n",
      "Age: 21\n",
      "Sex: woman\n",
      "Profession: Mathematics\n"
     ]
    }
   ],
   "source": [
    "# 1\n",
    "class Person:\n",
    "    def __init__(self, name='', age=20, sex='man'):\n",
    "        self.setName(name)\n",
    "        self.setAge(age)\n",
    "        self.setSex(sex)\n",
    "    \n",
    "    def setName(self, name: str):\n",
    "        if not isinstance(name, str):\n",
    "            print('name must be string.')\n",
    "            return\n",
    "        self.__name = name\n",
    "\n",
    "    def setAge(self, ageint):\n",
    "        if not isinstance(age, int):\n",
    "            print('age must be integer.')\n",
    "            return\n",
    "        self.__age = age\n",
    "\n",
    "    def setSex(self, sex: str):\n",
    "        if sex != 'man' and sex != 'woman':\n",
    "            print('sex must be \"man\" or \"woman\".')\n",
    "            return\n",
    "        self.__sex = sex\n",
    "\n",
    "    def show(self):\n",
    "        print('Name:', self.__name)\n",
    "        print('Age:', self.__age)\n",
    "        print('Sex:', self.__sex)\n",
    "\n",
    "class Student(Person):\n",
    "    def __init__(self, name='', age=20, sex='man', profession='Computer Science'):\n",
    "        super().__init__(name, age, sex)\n",
    "        self.setProfession(profession)\n",
    "        \n",
    "    def setProfession(self, profession: str):\n",
    "        if not isinstance(profession, str):\n",
    "            print('profession must be string.')\n",
    "            return\n",
    "        self.__profession = profession\n",
    "\n",
    "    def show(self):\n",
    "        super().show()\n",
    "        print('Profession:', self.__profession)\n",
    "\n",
    "s = Student('Li Ming', 21, 'woman', 'Mathematics')\n",
    "s.show()"
   ]
  },
  {
   "cell_type": "code",
   "execution_count": 83,
   "metadata": {},
   "outputs": [
    {
     "name": "stdout",
     "output_type": "stream",
     "text": [
      "(5, 7, 9)\n",
      "(-3, -3, -3)\n",
      "(3, 6, 9)\n",
      "(0.5, 1.0, 1.5)\n",
      "(1, 4, 9)\n",
      "(0, 1, 1)\n"
     ]
    }
   ],
   "source": [
    "# 2\n",
    "class Vector:\n",
    "    def __init__(self, x, y, z):\n",
    "        self.setX(x)\n",
    "        self.setY(y)\n",
    "        self.setZ(z)\n",
    "\n",
    "    def setX(self, x):\n",
    "        if not isinstance(x, int) and not isinstance(x, float):\n",
    "            print('x must be number.')\n",
    "            return\n",
    "        self.__x = x\n",
    "    \n",
    "    def setY(self, y):\n",
    "        if not isinstance(y, int) and not isinstance(y, float):\n",
    "            print('y must be number.')\n",
    "            return\n",
    "        self.__y = y\n",
    "\n",
    "    def setZ(self, z):\n",
    "        if not isinstance(z, int) and not isinstance(z, float):\n",
    "            print('z must be number.')\n",
    "            return\n",
    "        self.__z = z\n",
    "\n",
    "    def __str__(self):\n",
    "        return f'({self.__x}, {self.__y}, {self.__z})'\n",
    "\n",
    "    def __add__(self, other):\n",
    "        return Vector(self.__x + other.__x, self.__y + other.__y, self.__z + other.__z)\n",
    "    \n",
    "    def __sub__(self, other):\n",
    "        return Vector(self.__x - other.__x, self.__y - other.__y, self.__z - other.__z)\n",
    "    \n",
    "    def __mul__(self, other):\n",
    "        return Vector(self.__x * other, self.__y * other, self.__z * other)\n",
    "    \n",
    "    def __truediv__(self, other):\n",
    "        return Vector(self.__x / other, self.__y / other, self.__z / other)\n",
    "    \n",
    "    def __floordiv__(self, other):\n",
    "        return Vector(self.__x // other, self.__y // other, self.__z // other)\n",
    "    \n",
    "    def __pow__(self, other):\n",
    "        return Vector(self.__x ** other, self.__y ** other, self.__z ** other)\n",
    "    \n",
    "a = Vector(1, 2, 3)\n",
    "b = Vector(4, 5, 6)\n",
    "print(a + b)\n",
    "print(a - b)\n",
    "print(a * 3)\n",
    "print(a / 2)\n",
    "print(a ** 2)\n",
    "print(a // 2)"
   ]
  },
  {
   "attachments": {},
   "cell_type": "markdown",
   "metadata": {},
   "source": [
    "3. 封装 继承 多态\n",
    "4. 有以下四种\n",
    "   - 以单个下划线开头的变量或方法仅供内部使用\n",
    "   - 单个末尾下划线是一个约定，用来避免与Python关键字产生命名冲突\n",
    "   - 双下划线前缀会导致Python解释器重写属性名称，以避免子类中的命名冲突\n",
    "   - 由双下划线前缀和后缀包围的变量不会被Python解释器修改，用于特殊用途：`__init__`对象构造函数、`__add__`加法运算符等\n",
    "5. `__pow__` `__floordiv__`\n",
    "6. `a._A__value = 3`"
   ]
  }
 ],
 "metadata": {
  "kernelspec": {
   "display_name": "playground",
   "language": "python",
   "name": "python3"
  },
  "language_info": {
   "codemirror_mode": {
    "name": "ipython",
    "version": 3
   },
   "file_extension": ".py",
   "mimetype": "text/x-python",
   "name": "python",
   "nbconvert_exporter": "python",
   "pygments_lexer": "ipython3",
   "version": "3.11.0"
  },
  "orig_nbformat": 4
 },
 "nbformat": 4,
 "nbformat_minor": 2
}
