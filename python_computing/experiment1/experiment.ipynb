{
 "cells": [
  {
   "attachments": {},
   "cell_type": "markdown",
   "metadata": {},
   "source": [
    "# 实验一"
   ]
  },
  {
   "cell_type": "code",
   "execution_count": null,
   "metadata": {},
   "outputs": [],
   "source": [
    "# 1\n",
    "import datetime\n",
    "\n",
    "t = input('Input a time(24h): ')\n",
    "t = datetime.datetime.strptime(t, '%H:%M:%S')\n",
    "result = t + datetime.timedelta(seconds=1)\n",
    "print('   A second later:', result.strftime('%H:%M:%S'))"
   ]
  },
  {
   "cell_type": "code",
   "execution_count": 1,
   "metadata": {},
   "outputs": [
    {
     "name": "stdout",
     "output_type": "stream",
     "text": [
      "488\n",
      "[('aa', 'aa'), ('aba', 'aba'), ('abut', 'tuba'), ('ad', 'da'), ('ados', 'soda'), ('aga', 'aga'), ('agar', 'raga'), ('agas', 'saga'), ('agenes', 'senega'), ('ah', 'ha')]\n"
     ]
    }
   ],
   "source": [
    "# 2\n",
    "# read words\n",
    "f = open('words.txt', 'r')\n",
    "words = f.readlines()\n",
    "words = list(map(lambda x: x.strip(), words))\n",
    "result = []\n",
    "\n",
    "for i in words[:]:\n",
    "    if i == i[::-1]:\n",
    "        result.append((i, i))\n",
    "        words.remove(i)\n",
    "    elif i[::-1] in words:\n",
    "        result.append((i, i[::-1]))\n",
    "        words.remove(i)\n",
    "        words.remove(i[::-1])\n",
    "\n",
    "print(len(result))\n",
    "print(result[0:10])"
   ]
  },
  {
   "cell_type": "code",
   "execution_count": 4,
   "metadata": {},
   "outputs": [
    {
     "name": "stdout",
     "output_type": "stream",
     "text": [
      "THE 2\n",
      "SONNETS 1\n",
      "by 77\n",
      "William 1\n",
      "Shakespeare 1\n",
      "From 14\n",
      "fairest 5\n",
      "creatures 2\n",
      "we 14\n",
      "desire 5\n"
     ]
    }
   ],
   "source": [
    "# 4.1\n",
    "f = open('shakespeare.txt', 'r')\n",
    "passage = f.read()\n",
    "f.close()\n",
    "\n",
    "result = {}\n",
    "for word in passage.split():\n",
    "    if word not in result.keys():\n",
    "        result[word] = 0\n",
    "    result[word] += 1\n",
    "\n",
    "index = 0\n",
    "for k, v in result.items():\n",
    "    if index < 10:\n",
    "        print(k, v)\n",
    "        index += 1"
   ]
  },
  {
   "cell_type": "code",
   "execution_count": 5,
   "metadata": {},
   "outputs": [
    {
     "name": "stdout",
     "output_type": "stream",
     "text": [
      "the 2.01%\n"
     ]
    }
   ],
   "source": [
    "# 4.2\n",
    "keywords = ['the']\n",
    "\n",
    "f = open('shakespeare.txt', 'r')\n",
    "passage = f.read()\n",
    "f.close()\n",
    "\n",
    "result = {}\n",
    "total = 0\n",
    "for word in passage.split():\n",
    "    total += 1\n",
    "    if word not in result.keys():\n",
    "        result[word] = 0\n",
    "    result[word] += 1\n",
    "\n",
    "for k in keywords:\n",
    "    if k in result.keys():\n",
    "        print(k, f'{round(result[k]/total*100, 2)}%')\n",
    "    else:\n",
    "        print(k, '0.00%')"
   ]
  }
 ],
 "metadata": {
  "kernelspec": {
   "display_name": "playground",
   "language": "python",
   "name": "python3"
  },
  "language_info": {
   "codemirror_mode": {
    "name": "ipython",
    "version": 3
   },
   "file_extension": ".py",
   "mimetype": "text/x-python",
   "name": "python",
   "nbconvert_exporter": "python",
   "pygments_lexer": "ipython3",
   "version": "3.11.0"
  },
  "orig_nbformat": 4
 },
 "nbformat": 4,
 "nbformat_minor": 2
}
