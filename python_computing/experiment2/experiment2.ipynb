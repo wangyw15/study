{
 "cells": [
  {
   "cell_type": "code",
   "execution_count": null,
   "metadata": {},
   "outputs": [],
   "source": [
    "# 1.1.1\n",
    "# [TODO)"
   ]
  },
  {
   "cell_type": "code",
   "execution_count": 2,
   "metadata": {},
   "outputs": [
    {
     "name": "stdout",
     "output_type": "stream",
     "text": [
      "{4, 14, 15, 18, 19, 25, 33, 35, 41, 42, 55, 56, 63, 86, 87, 88, 91, 93, 96, 98}\n"
     ]
    }
   ],
   "source": [
    "# 1.1.2\n",
    "import random\n",
    "nums = set()\n",
    "while len(nums) < 20:\n",
    "    num = random.randint(1, 100)\n",
    "    if not num in nums:\n",
    "        nums.add(num)\n",
    "\n",
    "print(nums)"
   ]
  },
  {
   "cell_type": "code",
   "execution_count": 9,
   "metadata": {},
   "outputs": [],
   "source": [
    "# 1.1.3\n",
    "import turtle as tt\n",
    "\n",
    "def koch(n):\n",
    "    \"\"\"Draws a koch curve with length n.\"\"\"\n",
    "    if n<3:\n",
    "        tt.fd(n)\n",
    "        return\n",
    "    m = n/3.0\n",
    "    koch(m)\n",
    "    tt.lt(60)\n",
    "    koch(m)\n",
    "    tt.rt(120)\n",
    "    koch(m)\n",
    "    tt.lt(60)\n",
    "    koch(m)\n",
    "\n",
    "\n",
    "def snowflake(n):\n",
    "    \"\"\"Draws a snowflake (a triangle with a Koch curve for each side).\"\"\"\n",
    "    for i in range(3):\n",
    "        koch(n)\n",
    "        tt.rt(120)\n",
    "\n",
    "\n",
    "tt.delay = 0\n",
    "tt.speed(0)\n",
    "\n",
    "tt.x = -150\n",
    "tt.y = 90\n",
    "\n",
    "snowflake(300)\n",
    "\n",
    "tt.exitonclick()\n"
   ]
  },
  {
   "cell_type": "code",
   "execution_count": null,
   "metadata": {},
   "outputs": [],
   "source": [
    "# 1.2.1\n",
    "# [TODO)"
   ]
  },
  {
   "cell_type": "code",
   "execution_count": null,
   "metadata": {},
   "outputs": [],
   "source": [
    "# 1.2.2\n",
    "# [TODO)"
   ]
  },
  {
   "cell_type": "code",
   "execution_count": 3,
   "metadata": {},
   "outputs": [
    {
     "name": "stdout",
     "output_type": "stream",
     "text": [
      "[1, 2, 3, 5, 7, 11, 13, 17, 19, 23, 29, 31, 37, 41, 43, 47, 53, 59, 61, 67, 71, 73, 79, 83, 89, 97]\n"
     ]
    }
   ],
   "source": [
    "# 1.2.3\n",
    "nums = [1, 2]\n",
    "for i in range(2, 101):\n",
    "    for j in nums[1:]:\n",
    "        if i % j == 0:\n",
    "            break\n",
    "        elif i < j*j:\n",
    "            nums.append(i)\n",
    "            break\n",
    "print(nums)"
   ]
  },
  {
   "cell_type": "code",
   "execution_count": 4,
   "metadata": {},
   "outputs": [
    {
     "name": "stdout",
     "output_type": "stream",
     "text": [
      "[2, 3, 5, 7, 11, 13, 17, 19, 23, 29, 31, 37, 41, 43, 47, 53, 59, 61, 67, 71, 73, 79, 83, 89, 97]\n"
     ]
    }
   ],
   "source": [
    "# 1.2.3\n",
    "nums = [num for num in range(2, 100) if 0 not in [num % d for d in range(2, int(num**0.5)+1)]]\n",
    "print(nums)"
   ]
  },
  {
   "cell_type": "code",
   "execution_count": 5,
   "metadata": {},
   "outputs": [
    {
     "name": "stdout",
     "output_type": "stream",
     "text": [
      "Counter({'blue': 3, 'red': 2, 'green': 1})\n"
     ]
    }
   ],
   "source": [
    "# 1.2.4\n",
    "from collections import Counter\n",
    "cnt = Counter()\n",
    "words = ['red', 'blue', 'red', 'green', 'blue', 'blue']\n",
    "for word in words:\n",
    "    cnt[word] += 1\n",
    "print(cnt)"
   ]
  },
  {
   "cell_type": "code",
   "execution_count": 7,
   "metadata": {},
   "outputs": [
    {
     "name": "stdout",
     "output_type": "stream",
     "text": [
      "3.141592653589793\n",
      "3.141592653589793\n"
     ]
    }
   ],
   "source": [
    "# 2.1\n",
    "import math\n",
    "pi = 0.0\n",
    "for k in range(1000):\n",
    "    pi += math.factorial(4*k)*(1103+26390*k)/((math.factorial(k)**4)*396**(4*k))\n",
    "pi *= 2*(2**0.5)/9801\n",
    "pi = 1 / pi\n",
    "print(pi)\n",
    "print(math.pi)"
   ]
  },
  {
   "cell_type": "code",
   "execution_count": 1,
   "metadata": {},
   "outputs": [],
   "source": [
    "# 2.2\n",
    "import turtle as tt\n",
    "\n",
    "def koch(n):\n",
    "    \"\"\"Draws a koch curve with length n.\"\"\"\n",
    "    if n<3:\n",
    "        tt.fd(n)\n",
    "        return\n",
    "    m = n/3.0\n",
    "    koch(m)\n",
    "    tt.lt(90)\n",
    "    koch(m)\n",
    "    tt.rt(90)\n",
    "    koch(m)\n",
    "    tt.rt(90)\n",
    "    koch(m)\n",
    "    tt.lt(90)\n",
    "    koch(m)\n",
    "\n",
    "\n",
    "def snowflake(n):\n",
    "    \"\"\"Draws a snowflake (a triangle with a Koch curve for each side).\"\"\"\n",
    "    for i in range(4):\n",
    "        koch(n)\n",
    "        tt.rt(90)\n",
    "\n",
    "tt.pu()\n",
    "tt.delay = 0\n",
    "tt.speed(0)\n",
    "tt.goto(-150, 90)\n",
    "tt.pd()\n",
    "\n",
    "snowflake(300)\n",
    "\n",
    "tt.exitonclick()"
   ]
  },
  {
   "cell_type": "code",
   "execution_count": 6,
   "metadata": {},
   "outputs": [
    {
     "name": "stdout",
     "output_type": "stream",
     "text": [
      "10000 classes, 30 students, 2933 classes have all different birthdays.\n",
      "p=0.2933\n"
     ]
    }
   ],
   "source": [
    "# 2.3\n",
    "import random\n",
    "\n",
    "def random_date() -> tuple:\n",
    "    month = random.randint(1, 12)\n",
    "    date = 0\n",
    "    if month in [1, 3, 5, 7, 8, 10, 12]:\n",
    "        date = random.randint(1, 31)\n",
    "    elif month in [4, 6, 9, 11]:\n",
    "        date = random.randint(1, 30)\n",
    "    else:\n",
    "        date = random.randint(1, 28)\n",
    "    return (month, date)\n",
    "\n",
    "m = int(input(\"M: \"))\n",
    "n = int(input(\"N: \"))\n",
    "\n",
    "classes = [[random_date() for _ in range(n)] for _ in range(m)]\n",
    "count = 0\n",
    "\n",
    "for dates in classes:\n",
    "    if len(set(dates)) == n:\n",
    "        count += 1\n",
    "\n",
    "print(f'{m} classes, {n} students, {count} classes have all different birthdays.')\n",
    "print(f'p={count/m}')"
   ]
  },
  {
   "cell_type": "code",
   "execution_count": 5,
   "metadata": {},
   "outputs": [
    {
     "name": "stdout",
     "output_type": "stream",
     "text": [
      "9767 words can be reduced.\n"
     ]
    }
   ],
   "source": [
    "# 2.4\n",
    "f = open('words.txt', 'r')\n",
    "words = f.readlines()\n",
    "f.close()\n",
    "words = set(map(lambda x: x.strip(), words))\n",
    "\n",
    "reducable = set()\n",
    "\n",
    "def remove_char(s: str, n: int) -> str:\n",
    "    return s[:n] + s[n+1:]\n",
    "\n",
    "def reducible_word(word: str) -> bool:\n",
    "    if word == 'a' or word == 'i' or word in reducable:\n",
    "        return True\n",
    "    for i in range(len(word)):\n",
    "        reduced = remove_char(word, i)\n",
    "        if reduced == 'a' or reduced == 'i' or reduced in words:\n",
    "            if reducible_word(reduced):\n",
    "                return True\n",
    "    return False\n",
    "\n",
    "for word in words:\n",
    "    if reducible_word(word):\n",
    "        reducable.add(word)\n",
    "\n",
    "print(f'{len(reducable)} words can be reduced.')"
   ]
  }
 ],
 "metadata": {
  "kernelspec": {
   "display_name": "playground",
   "language": "python",
   "name": "python3"
  },
  "language_info": {
   "codemirror_mode": {
    "name": "ipython",
    "version": 3
   },
   "file_extension": ".py",
   "mimetype": "text/x-python",
   "name": "python",
   "nbconvert_exporter": "python",
   "pygments_lexer": "ipython3",
   "version": "3.10.4"
  },
  "orig_nbformat": 4
 },
 "nbformat": 4,
 "nbformat_minor": 2
}
