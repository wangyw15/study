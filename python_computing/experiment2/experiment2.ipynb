{
 "cells": [
  {
   "cell_type": "code",
   "execution_count": null,
   "metadata": {},
   "outputs": [],
   "source": [
    "# 1.1.1\n",
    "# TODO"
   ]
  },
  {
   "cell_type": "code",
   "execution_count": 4,
   "metadata": {},
   "outputs": [
    {
     "name": "stdout",
     "output_type": "stream",
     "text": [
      "{10, 16, 26, 33, 36, 41, 43, 51, 52, 54, 59, 61, 64, 67, 71, 77, 82, 91, 93, 98}\n"
     ]
    }
   ],
   "source": [
    "# 1.1.2\n",
    "import random\n",
    "nums = set()\n",
    "while len(nums) < 20:\n",
    "    num = random.randint(1, 100)\n",
    "    if not num in nums:\n",
    "        nums.add(num)\n",
    "\n",
    "print(nums)"
   ]
  },
  {
   "cell_type": "code",
   "execution_count": 8,
   "metadata": {},
   "outputs": [
    {
     "name": "stdout",
     "output_type": "stream",
     "text": [
      "[1, 2, 3, 5, 7, 11, 13, 17, 19, 23, 29, 31, 37, 41, 43, 47, 53, 59, 61, 67, 71, 73, 79, 83, 89, 97]\n"
     ]
    }
   ],
   "source": [
    "# 1.2.2\n",
    "nums = [1, 2]\n",
    "for i in range(2, 101):\n",
    "    for j in nums[1:]:\n",
    "        if i % j == 0:\n",
    "            break\n",
    "        elif i < j*j:\n",
    "            nums.append(i)\n",
    "            break\n",
    "print(nums)"
   ]
  },
  {
   "cell_type": "code",
   "execution_count": 16,
   "metadata": {},
   "outputs": [
    {
     "name": "stdout",
     "output_type": "stream",
     "text": [
      "[2, 3, 5, 7, 11, 13, 17, 19, 23, 29, 31, 37, 41, 43, 47, 53, 59, 61, 67, 71, 73, 79, 83, 89, 97]\n"
     ]
    }
   ],
   "source": [
    "# 1.2.2\n",
    "nums = [num for num in range(2, 100) if 0 not in [num % d for d in range(2, int(num**0.5)+1)]]\n",
    "print(nums)"
   ]
  },
  {
   "cell_type": "code",
   "execution_count": 9,
   "metadata": {},
   "outputs": [
    {
     "name": "stdout",
     "output_type": "stream",
     "text": [
      "Counter({'blue': 3, 'red': 2, 'green': 1})\n"
     ]
    }
   ],
   "source": [
    "# 1.2.4\n",
    "from collections import Counter\n",
    "cnt = Counter()\n",
    "words = ['red', 'blue', 'red', 'green', 'blue', 'blue']\n",
    "for word in words:\n",
    "    cnt[word] += 1\n",
    "print(cnt)"
   ]
  },
  {
   "cell_type": "code",
   "execution_count": 17,
   "metadata": {},
   "outputs": [
    {
     "name": "stdout",
     "output_type": "stream",
     "text": [
      "3.141592653589793\n"
     ]
    }
   ],
   "source": [
    "# 2.1\n",
    "import math\n",
    "pi = 0.0\n",
    "for k in range(1000):\n",
    "    pi += math.factorial(4*k)*(1103+26390*k)/((math.factorial(k)**4)*396**(4*k))\n",
    "pi *= 2*(2**0.5)/9801\n",
    "pi = 1 / pi\n",
    "print(pi)"
   ]
  },
  {
   "cell_type": "code",
   "execution_count": null,
   "metadata": {},
   "outputs": [],
   "source": [
    "# 2.2\n"
   ]
  }
 ],
 "metadata": {
  "kernelspec": {
   "display_name": "playground",
   "language": "python",
   "name": "python3"
  },
  "language_info": {
   "codemirror_mode": {
    "name": "ipython",
    "version": 3
   },
   "file_extension": ".py",
   "mimetype": "text/x-python",
   "name": "python",
   "nbconvert_exporter": "python",
   "pygments_lexer": "ipython3",
   "version": "3.11.0"
  },
  "orig_nbformat": 4
 },
 "nbformat": 4,
 "nbformat_minor": 2
}
